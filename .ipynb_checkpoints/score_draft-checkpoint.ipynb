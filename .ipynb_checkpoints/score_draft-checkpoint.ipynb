{
 "cells": [
  {
   "cell_type": "code",
   "execution_count": 21,
   "id": "d4fb48d7-ff16-4ec6-a80c-bb87b0f3ff1e",
   "metadata": {},
   "outputs": [],
   "source": [
    "import pandas as pd\n",
    "import numpy as np\n",
    "import pickle\n",
    "import os\n",
    "import sys\n",
    "import logging\n",
    "from sklearn.metrics import f1_score\n",
    "from sklearn.model_selection import train_test_split\n",
    "from sklearn.linear_model import LogisticRegression\n",
    "import json\n"
   ]
  },
  {
   "cell_type": "code",
   "execution_count": 11,
   "id": "b2d35972-622d-4f5b-9d6d-ca97c27563a5",
   "metadata": {},
   "outputs": [],
   "source": [
    "logging.basicConfig(stream=sys.stdout, level=logging.INFO)"
   ]
  },
  {
   "cell_type": "code",
   "execution_count": 15,
   "id": "d29eb80d-7989-440a-8966-c2e11aa0539f",
   "metadata": {},
   "outputs": [],
   "source": [
    "with open('src/config.json','r') as f:\n",
    "    config = json.load(f) \n",
    "\n",
    "model_path = os.path.join(config['output_model_path']) \n",
    "test_data_path = os.path.join(config['test_data_path']) "
   ]
  },
  {
   "cell_type": "code",
   "execution_count": 24,
   "id": "5d1ecdbb-3077-4d26-9f8e-460a449d30d9",
   "metadata": {},
   "outputs": [],
   "source": [
    "def score_model():\n",
    "    # 1. read test data \n",
    "    logging.info(\"Loading testdata.csv\")\n",
    "    test_df = pd.read_csv(os.path.join(test_data_path, 'testdata.csv'))\n",
    "    # 2. load model \n",
    "    logging.info(\"Loading trained model\")\n",
    "    model = pickle.load(open( os.path.join(model_path, 'trainedmodel.pkl'),'rb'))\n",
    "    # 3. prepare test data  \n",
    "    logging.info(\"Preparing test data\")\n",
    "    y_true = test_df.pop('exited')\n",
    "    X_df = test_df.drop(['corporation'], axis=1)\n",
    "    # 4. predict test data  \n",
    "    logging.info(\"Predicting test data\")\n",
    "    y_pred = model.predict(X_df)\n",
    "    f1 = f1_score(y_true, y_pred)\n",
    "    print(f\"f1 score = {f1}\")\n",
    "    # 5. record information \n",
    "    logging.info(\"Saving scores to text file\")\n",
    "    with open(os.path.join(model_path, 'latestscore.txt'), 'w') as file:\n",
    "        file.write(f\"f1 score = {f1}\")"
   ]
  },
  {
   "cell_type": "code",
   "execution_count": 25,
   "id": "29aabe77-5ef2-47b7-80ec-299bec03e4b1",
   "metadata": {},
   "outputs": [
    {
     "name": "stdout",
     "output_type": "stream",
     "text": [
      "INFO:root:Running scoring.py\n",
      "INFO:root:Loading testdata.csv\n",
      "INFO:root:Loading trained model\n",
      "INFO:root:Preparing test data\n",
      "INFO:root:Predicting test data\n",
      "f1 score = 0.5714285714285715\n",
      "INFO:root:Saving scores to text file\n"
     ]
    }
   ],
   "source": [
    "if __name__ == '__main__':\n",
    "    logging.info(\"Running scoring.py\")\n",
    "    score_model()"
   ]
  },
  {
   "cell_type": "code",
   "execution_count": null,
   "id": "5d900f5f-7372-40fc-a707-1724eb066ee0",
   "metadata": {},
   "outputs": [],
   "source": []
  }
 ],
 "metadata": {
  "kernelspec": {
   "display_name": "Python 3 (ipykernel)",
   "language": "python",
   "name": "python3"
  },
  "language_info": {
   "codemirror_mode": {
    "name": "ipython",
    "version": 3
   },
   "file_extension": ".py",
   "mimetype": "text/x-python",
   "name": "python",
   "nbconvert_exporter": "python",
   "pygments_lexer": "ipython3",
   "version": "3.10.16"
  }
 },
 "nbformat": 4,
 "nbformat_minor": 5
}
