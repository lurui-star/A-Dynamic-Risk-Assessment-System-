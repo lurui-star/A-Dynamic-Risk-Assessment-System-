{
 "cells": [
  {
   "cell_type": "code",
   "execution_count": 6,
   "id": "e9b9090f-25b2-474f-b010-c21f9124bc5b",
   "metadata": {},
   "outputs": [],
   "source": [
    "import pandas as pd\n",
    "import numpy as np\n",
    "import pickle\n",
    "import os\n",
    "from sklearn import metrics\n",
    "import logging\n",
    "import sys\n",
    "from sklearn.model_selection import train_test_split\n",
    "from sklearn.linear_model import LogisticRegression\n",
    "import json"
   ]
  },
  {
   "cell_type": "code",
   "execution_count": 27,
   "id": "4746b925-e657-4dd8-9ed9-b3c8974192f5",
   "metadata": {},
   "outputs": [],
   "source": [
    "logging.basicConfig(stream=sys.stdout, level=logging.INFO)"
   ]
  },
  {
   "cell_type": "code",
   "execution_count": 28,
   "id": "2964163f-b7ad-465c-b654-8b39c8654aa4",
   "metadata": {},
   "outputs": [],
   "source": [
    "with open('src/config.json','r') as f:\n",
    "    config = json.load(f) \n",
    "\n",
    "dataset_csv_path = os.path.join(config['output_folder_path']) \n",
    "model_path = os.path.join(config['output_model_path']) "
   ]
  },
  {
   "cell_type": "code",
   "execution_count": 30,
   "id": "fab17a65-5be0-4cad-8a57-97881e1dfc43",
   "metadata": {},
   "outputs": [],
   "source": [
    "def train_model():\n",
    "    ### 1: loading data set \n",
    "    logging.info(\"Loading finaldata.csv\")\n",
    "    data_df = pd.read_csv(os.path.join(dataset_csv_path, 'finaldata.csv'))\n",
    "    y_df = data_df.pop('exited')\n",
    "    X_df = data_df.drop(['corporation'], axis=1)\n",
    "    ### 2. Fit logistic regression model \n",
    "    model=LogisticRegression(\n",
    "            C=1.0,\n",
    "            class_weight=None,\n",
    "            dual=False,\n",
    "            fit_intercept=True,\n",
    "            intercept_scaling=1,\n",
    "            l1_ratio=None,\n",
    "            max_iter=100,\n",
    "            multi_class='auto',\n",
    "            n_jobs=None,\n",
    "            penalty='l2',\n",
    "            random_state=0,\n",
    "            solver='liblinear',\n",
    "            tol=0.0001,\n",
    "            verbose=0,\n",
    "            warm_start=False)\n",
    "    logging.info(\"Training model\")\n",
    "    model.fit(X_df, y_df)\n",
    "    ### 3 save model \n",
    "    logging.info(\"Saving trained model\")\n",
    "    pickle.dump(model,open(os.path.join(model_path,'trainedmodel.pkl'),'wb'))"
   ]
  },
  {
   "cell_type": "code",
   "execution_count": 31,
   "id": "39b782dc-0d27-465d-943a-04ddc51340a2",
   "metadata": {},
   "outputs": [
    {
     "name": "stdout",
     "output_type": "stream",
     "text": [
      "INFO:root:Running training.py\n",
      "INFO:root:Loading finaldata.csv\n",
      "INFO:root:Training model\n",
      "INFO:root:Saving trained model\n"
     ]
    }
   ],
   "source": [
    "if __name__ == '__main__':\n",
    "    logging.info(\"Running training.py\")\n",
    "    train_model()"
   ]
  }
 ],
 "metadata": {
  "kernelspec": {
   "display_name": "Python 3 (ipykernel)",
   "language": "python",
   "name": "python3"
  },
  "language_info": {
   "codemirror_mode": {
    "name": "ipython",
    "version": 3
   },
   "file_extension": ".py",
   "mimetype": "text/x-python",
   "name": "python",
   "nbconvert_exporter": "python",
   "pygments_lexer": "ipython3",
   "version": "3.10.16"
  }
 },
 "nbformat": 4,
 "nbformat_minor": 5
}
