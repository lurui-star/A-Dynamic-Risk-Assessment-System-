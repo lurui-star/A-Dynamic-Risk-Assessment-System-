{
 "cells": [
  {
   "cell_type": "code",
   "execution_count": 30,
   "id": "6b4dddfc-aa04-4741-ad7f-5063aeb9e638",
   "metadata": {},
   "outputs": [],
   "source": [
    "import subprocess\n",
    "import requests\n",
    "import time\n",
    "import os\n",
    "import json"
   ]
  },
  {
   "cell_type": "code",
   "execution_count": 36,
   "id": "883dceec-78fd-4f93-8f0e-336c6c1fae04",
   "metadata": {},
   "outputs": [],
   "source": [
    "# Set up logging\n",
    "logging.basicConfig(stream=sys.stdout, level=logging.INFO)"
   ]
  },
  {
   "cell_type": "code",
   "execution_count": 38,
   "id": "03ec220d-2a07-4f1c-852d-73157e21fbe9",
   "metadata": {},
   "outputs": [],
   "source": [
    "### upload the dependent files \n",
    "with open('src/config.json', 'r') as f:\n",
    "    config = json.load(f)\n",
    "prod_deployment_path = os.path.join(config['prod_deployment_path'])\n",
    "test_data_path = os.path.join(config['test_data_path'])\n",
    "test_data_file = os.path.join(test_data_path, 'testdata.csv')"
   ]
  },
  {
   "cell_type": "code",
   "execution_count": null,
   "id": "0a8ae817-3d23-4695-ae65-ab753be79f23",
   "metadata": {},
   "outputs": [],
   "source": [
    "URL = \"http://127.0.0.1:5000\""
   ]
  },
  {
   "cell_type": "code",
   "execution_count": 39,
   "id": "ac176b2c-2cf4-4e05-82cf-64f3487ace88",
   "metadata": {},
   "outputs": [
    {
     "name": "stdout",
     "output_type": "stream",
     "text": [
      "INFO:root:iniciate app at http://127.0.0.1:5000\n"
     ]
    },
    {
     "data": {
      "text/plain": [
       "<Popen: returncode: None args: ['python', 'src/app.py']>"
      ]
     },
     "execution_count": 39,
     "metadata": {},
     "output_type": "execute_result"
    },
    {
     "name": "stdout",
     "output_type": "stream",
     "text": [
      " * Serving Flask app 'app'\n",
      " * Debug mode: on\n"
     ]
    },
    {
     "name": "stderr",
     "output_type": "stream",
     "text": [
      "Address already in use\n",
      "Port 5000 is in use by another program. Either identify and stop that program, or start the server with a different port.\n",
      "On macOS, try disabling the 'AirPlay Receiver' service from System Preferences -> General -> AirDrop & Handoff.\n"
     ]
    }
   ],
   "source": [
    "logging.info(f\"iniciate app at {URL}\")\n",
    "subprocess.Popen([\"python\", \"src/app.py\"])"
   ]
  },
  {
   "cell_type": "code",
   "execution_count": 40,
   "id": "de1f1071-29e3-4a56-a5a8-1a4699e03a54",
   "metadata": {},
   "outputs": [],
   "source": [
    "time.sleep(2)"
   ]
  },
  {
   "cell_type": "code",
   "execution_count": 42,
   "id": "4125a586-d1b5-44a3-93d9-d79cf2198c7e",
   "metadata": {},
   "outputs": [
    {
     "name": "stdout",
     "output_type": "stream",
     "text": [
      "INFO:root:Post request /prediction for data/testdata/testdata.csv\n",
      "INFO:root:Loading deployed model\n",
      "INFO:root:Running predictions on data\n",
      "INFO:werkzeug:127.0.0.1 - - [20/Jan/2025 21:19:53] \"POST /prediction HTTP/1.1\" 200 -\n"
     ]
    }
   ],
   "source": [
    "logging.info( f\"Post request /prediction for {test_data_file}\")\n",
    "response_pred = requests.post(f'{URL}/prediction',json={'filepath': test_data_file }).text"
   ]
  },
  {
   "cell_type": "code",
   "execution_count": 43,
   "id": "5c608171-f54e-447d-ab29-34db38f2378b",
   "metadata": {},
   "outputs": [
    {
     "name": "stdout",
     "output_type": "stream",
     "text": [
      "INFO:root:Get request /scoring\n",
      "INFO:werkzeug:127.0.0.1 - - [20/Jan/2025 21:20:06] \"GET /scoring HTTP/1.1\" 200 -\n"
     ]
    }
   ],
   "source": [
    "logging.info(\"Get request /scoring\")\n",
    "response_scor = requests.get(f'{URL}/scoring').text"
   ]
  },
  {
   "cell_type": "code",
   "execution_count": 44,
   "id": "f73b0fbc-008c-4760-b479-0714e6317419",
   "metadata": {},
   "outputs": [
    {
     "name": "stdout",
     "output_type": "stream",
     "text": [
      "INFO:root:Get request /summarystats\n",
      "INFO:root:Loading and preparing finaldata.csv\n",
      "INFO:root:Calculating statistics for data\n",
      "INFO:werkzeug:127.0.0.1 - - [20/Jan/2025 21:20:13] \"GET /summarystats HTTP/1.1\" 200 -\n"
     ]
    }
   ],
   "source": [
    "logging.info(\"Get request /summarystats\")\n",
    "response_stat = requests.get(f'{URL}/summarystats').text"
   ]
  },
  {
   "cell_type": "code",
   "execution_count": null,
   "id": "e61f4a19-13d7-4533-a2a6-c2296ed2ff02",
   "metadata": {},
   "outputs": [
    {
     "name": "stdout",
     "output_type": "stream",
     "text": [
      "INFO:root:Get request /diagnostics\n",
      "INFO:root:Loading and preparing finaldata.csv\n",
      "INFO:root:Calculating missing data percentage\n",
      "INFO:root:Calculating time for ingestion.py\n",
      "INFO:root:Calculating time for training.py\n",
      "INFO:root:Checking outdated dependencies\n"
     ]
    }
   ],
   "source": [
    "logging.info(\"Get request /diagnostics\")\n",
    "response_diag = requests.get(f'{URL}/diagnostics').text"
   ]
  },
  {
   "cell_type": "code",
   "execution_count": 35,
   "id": "c7a20f08-ad3d-4862-8440-eb79a1fe2e4b",
   "metadata": {},
   "outputs": [],
   "source": [
    "with open(os.path.join(prod_deployment_path, 'apireturns.txt'), 'w') as file:\n",
    "    file.write('Ingested Data\\n\\n')\n",
    "    file.write('Statistics Summary\\n')\n",
    "    file.write(response_stat)\n",
    "    file.write('\\nDiagnostics Summary\\n')\n",
    "    file.write(response_diag)\n",
    "    file.write('\\n\\nTest Data\\n\\n')\n",
    "    file.write('Model Predictions\\n')\n",
    "    file.write(response_pred)\n",
    "    file.write('\\nModel Score\\n')\n",
    "    file.write(response_scor)"
   ]
  },
  {
   "cell_type": "code",
   "execution_count": null,
   "id": "8dd08fdc-0be0-4077-831c-c74e729c2040",
   "metadata": {},
   "outputs": [],
   "source": []
  }
 ],
 "metadata": {
  "kernelspec": {
   "display_name": "Python 3 (ipykernel)",
   "language": "python",
   "name": "python3"
  },
  "language_info": {
   "codemirror_mode": {
    "name": "ipython",
    "version": 3
   },
   "file_extension": ".py",
   "mimetype": "text/x-python",
   "name": "python",
   "nbconvert_exporter": "python",
   "pygments_lexer": "ipython3",
   "version": "3.10.16"
  }
 },
 "nbformat": 4,
 "nbformat_minor": 5
}
