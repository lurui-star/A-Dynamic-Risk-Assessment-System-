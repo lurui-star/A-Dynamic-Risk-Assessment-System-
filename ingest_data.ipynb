{
 "cells": [
  {
   "cell_type": "code",
   "execution_count": 25,
   "id": "59328a78-0910-4667-9899-4464c76b08bb",
   "metadata": {},
   "outputs": [
    {
     "data": {
      "text/plain": [
       "'\\nData ingestion process.\\n\\nauthor: Rui Lu \\ndate: Jan 2024\\n'"
      ]
     },
     "execution_count": 25,
     "metadata": {},
     "output_type": "execute_result"
    }
   ],
   "source": [
    "\"\"\"\n",
    "Data ingestion process.\n",
    "author: Rui Lu \n",
    "date: Jan 2024\n",
    "\"\"\""
   ]
  },
  {
   "cell_type": "code",
   "execution_count": 60,
   "id": "1016fc9f-51a3-4865-a86f-359948623d0a",
   "metadata": {},
   "outputs": [],
   "source": [
    "import pandas as pd\n",
    "import numpy as np\n",
    "import os\n",
    "import sys\n",
    "import json\n",
    "import logging\n",
    "from datetime import datetime"
   ]
  },
  {
   "cell_type": "code",
   "execution_count": 61,
   "id": "95ac1437-ca91-40bf-82cb-adb60c2a0d0a",
   "metadata": {},
   "outputs": [],
   "source": [
    "logging.basicConfig(stream=sys.stdout, level=logging.INFO)"
   ]
  },
  {
   "cell_type": "code",
   "execution_count": 62,
   "id": "9fe241b4-5765-472c-950f-dee22152475a",
   "metadata": {},
   "outputs": [],
   "source": [
    "# Load config.json and get input and output paths\n",
    "with open('data/config.json', 'r') as f:\n",
    "    config = json.load(f)\n",
    "\n",
    "input_folder_path = config['input_folder_path']\n",
    "output_folder_path = config['output_folder_path']"
   ]
  },
  {
   "cell_type": "code",
   "execution_count": 63,
   "id": "e87b415a-b33e-47e8-b427-8b638e9194f0",
   "metadata": {},
   "outputs": [],
   "source": [
    "def merge_multiple_dataframe():\n",
    "    # 1: check for datasets, compile them together, and write to an output file\n",
    "    logger.info('starting data ingestion process')\n",
    "    # check for datasets\n",
    "    filenames = next(os.walk(input_folder_path), (None, None, []))[2]  # [] if no file\n",
    "    filenames = [filename for filename in filenames if '\\r' not in filename]\n",
    "    # 2:  read data set \n",
    "    logging.info(f\"Reading files from {input_folder_path}\")\n",
    "    data_list = []\n",
    "    for file in filenames:\n",
    "        data_list.append(pd.read_csv(os.path.join(input_folder_path, file)))\n",
    "    data = pd.concat(data_list)\n",
    "    # 3. drop duplications \n",
    "    logging.info(\"Dropping duplicates\")\n",
    "    data = data.drop_duplicates().reset_index(drop=1)\n",
    "    # 4. Saving all data set together \n",
    "    logging.info(\"Saving ingested meta data\")\n",
    "    data_path = os.path.join(output_folder_path, 'finaldata.csv')\n",
    "    try:\n",
    "        data.to_csv(data_path, index=False)\n",
    "    except FileNotFoundError:\n",
    "        os.mkdir(output_folder_path)\n",
    "        data.to_csv(data_path, index=False)\n",
    "    #5. Record data ingetion information \n",
    "    logging.info(\"Saving ingested meta data\")\n",
    "    record_path = os.path.join(output_folder_path, 'ingestedfiles.txt')\n",
    "    with open(record_path, 'w') as f:\n",
    "          for file in filenames:\n",
    "              f.write(file + '\\n')\n",
    "              f.write(f\"Ingestion date: {datetime.now().strftime('%d/%m/%Y %H:%M:%S')}\\n\")\n",
    "    return(data)"
   ]
  },
  {
   "cell_type": "code",
   "execution_count": 65,
   "id": "751972da-f5f5-4bfe-bc31-e11eecf046a8",
   "metadata": {},
   "outputs": [],
   "source": [
    "if __name__ == '__main__':\n",
    "    merge_multiple_dataframe()"
   ]
  }
 ],
 "metadata": {
  "kernelspec": {
   "display_name": "Python 3 (ipykernel)",
   "language": "python",
   "name": "python3"
  },
  "language_info": {
   "codemirror_mode": {
    "name": "ipython",
    "version": 3
   },
   "file_extension": ".py",
   "mimetype": "text/x-python",
   "name": "python",
   "nbconvert_exporter": "python",
   "pygments_lexer": "ipython3",
   "version": "3.10.16"
  }
 },
 "nbformat": 4,
 "nbformat_minor": 5
}
