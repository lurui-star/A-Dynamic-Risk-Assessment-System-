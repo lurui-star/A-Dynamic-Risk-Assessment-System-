{
 "cells": [
  {
   "cell_type": "code",
   "execution_count": 23,
   "id": "a154e306-ddd1-40f4-9378-d1982e7011a1",
   "metadata": {},
   "outputs": [],
   "source": [
    "import re\n",
    "import subprocess\n",
    "import pandas as pd\n",
    "from flask import Flask, jsonify, request\n",
    "from src import diagnostics"
   ]
  },
  {
   "cell_type": "code",
   "execution_count": 24,
   "id": "8a5b6eca-a6dd-44c8-8893-97ce3250e510",
   "metadata": {},
   "outputs": [],
   "source": [
    "# iniciate the app\n",
    "app = Flask(__name__)\n",
    "app.secret_key = '1652d576-484a-49fd-913a-6879acfa6ba4'"
   ]
  },
  {
   "cell_type": "code",
   "execution_count": 25,
   "id": "f23c484e-d489-4c00-b7f9-9ef348e6f4f7",
   "metadata": {},
   "outputs": [],
   "source": [
    "@app.route('/')\n",
    "def index():\n",
    "    user=request.args.get('user')\n",
    "    return \"Welcome\"+user+'\\n'"
   ]
  },
  {
   "cell_type": "code",
   "execution_count": 26,
   "id": "49c443b5-f7af-447d-af6c-842d49a9f7e3",
   "metadata": {},
   "outputs": [],
   "source": [
    "@app.route(\"/prediction\", methods=['POST', 'OPTIONS'])\n",
    "def predict():\n",
    "    \"\"\"\n",
    "    Prediction endpoint that loads data given the file path\n",
    "    and calls the prediction function in diagnostics.py\n",
    "\n",
    "    Returns:\n",
    "        json: model predictions\n",
    "    \"\"\"\n",
    "    filepath = request.get_json()['filepath']\n",
    "\n",
    "    df = pd.read_csv(filepath)\n",
    "    df = df.drop(['corporation', 'exited'], axis=1)\n",
    "\n",
    "    preds = diagnostics.model_predictions(df)\n",
    "    return jsonify(preds.tolist())\n"
   ]
  },
  {
   "cell_type": "code",
   "execution_count": 27,
   "id": "742b4bff-72f9-4e39-a7de-0763cff51461",
   "metadata": {},
   "outputs": [],
   "source": [
    "@app.route(\"/scoring\", methods=['GET', 'OPTIONS'])\n",
    "def score():\n",
    "    \"\"\"\n",
    "    Scoring endpoint that runs the script scoring.py and\n",
    "    gets the score of the deployed model\n",
    "\n",
    "    Returns:\n",
    "        str: model f1 score\n",
    "    \"\"\"\n",
    "    output = subprocess.run(['python', 'src/scoring.py'],capture_output=True).stdout\n",
    "    output = re.findall(r'f1 score = \\d*\\.?\\d+', output.decode())[0]\n",
    "    return output"
   ]
  },
  {
   "cell_type": "code",
   "execution_count": 28,
   "id": "a9c103e9-d0dd-4b23-aed1-107ac7923a96",
   "metadata": {},
   "outputs": [],
   "source": [
    "@app.route(\"/summarystats\", methods=['GET', 'OPTIONS'])\n",
    "def stats():\n",
    "    \"\"\"\n",
    "    Summary statistics endpoint that calls dataframe summary\n",
    "    function from diagnostics.py\n",
    "\n",
    "    Returns:\n",
    "        json: summary statistics\n",
    "    \"\"\"\n",
    "    return jsonify(diagnostics.dataframe_summary())\n",
    "\n"
   ]
  },
  {
   "cell_type": "code",
   "execution_count": 29,
   "id": "794a7e3f-f812-4579-bf39-129951fba42d",
   "metadata": {},
   "outputs": [],
   "source": [
    "@app.route(\"/diagnostics\", methods=['GET', 'OPTIONS'])\n",
    "def diag():\n",
    "    \"\"\"\n",
    "    Diagnostics endpoint thats calls missing_percentage, execution_time,\n",
    "    and outdated_package_list from diagnostics.py\n",
    "\n",
    "    Returns:\n",
    "        dict: missing percentage, execution time and outdated packages\n",
    "    \"\"\"\n",
    "    missing = diagnostics.missing_percentage()\n",
    "    time = diagnostics.execution_time()\n",
    "    outdated = diagnostics.outdated_packages_list()\n",
    "\n",
    "    ret = {\n",
    "        'missing_percentage': missing,\n",
    "        'execution_time': time,\n",
    "        'outdated_packages': outdated\n",
    "    }\n",
    "\n",
    "    return jsonify(ret)"
   ]
  },
  {
   "cell_type": "code",
   "execution_count": 30,
   "id": "8022b3c7-4d4c-4dc8-b32c-6817b6d759e0",
   "metadata": {},
   "outputs": [
    {
     "name": "stdout",
     "output_type": "stream",
     "text": [
      " * Serving Flask app '__main__'\n",
      " * Debug mode: on\n",
      "INFO:werkzeug:\u001b[31m\u001b[1mWARNING: This is a development server. Do not use it in a production deployment. Use a production WSGI server instead.\u001b[0m\n",
      " * Running on http://127.0.0.1:8000\n",
      "INFO:werkzeug:\u001b[33mPress CTRL+C to quit\u001b[0m\n",
      "INFO:werkzeug: * Restarting with stat\n"
     ]
    },
    {
     "name": "stderr",
     "output_type": "stream",
     "text": [
      "Traceback (most recent call last):\n",
      "  File \"/Users/ruilu/miniconda3/envs/dynamic_risk_assess/lib/python3.10/runpy.py\", line 196, in _run_module_as_main\n",
      "    return _run_code(code, main_globals, None,\n",
      "  File \"/Users/ruilu/miniconda3/envs/dynamic_risk_assess/lib/python3.10/runpy.py\", line 86, in _run_code\n",
      "    exec(code, run_globals)\n",
      "  File \"/Users/ruilu/.local/lib/python3.10/site-packages/ipykernel_launcher.py\", line 18, in <module>\n",
      "    app.launch_new_instance()\n",
      "  File \"/Users/ruilu/.local/lib/python3.10/site-packages/traitlets/config/application.py\", line 1074, in launch_instance\n",
      "    app.initialize(argv)\n",
      "  File \"/Users/ruilu/.local/lib/python3.10/site-packages/traitlets/config/application.py\", line 118, in inner\n",
      "    return method(app, *args, **kwargs)\n",
      "  File \"/Users/ruilu/.local/lib/python3.10/site-packages/ipykernel/kernelapp.py\", line 692, in initialize\n",
      "    self.init_sockets()\n",
      "  File \"/Users/ruilu/.local/lib/python3.10/site-packages/ipykernel/kernelapp.py\", line 331, in init_sockets\n",
      "    self.shell_port = self._bind_socket(self.shell_socket, self.shell_port)\n",
      "  File \"/Users/ruilu/.local/lib/python3.10/site-packages/ipykernel/kernelapp.py\", line 253, in _bind_socket\n",
      "    return self._try_bind_socket(s, port)\n",
      "  File \"/Users/ruilu/.local/lib/python3.10/site-packages/ipykernel/kernelapp.py\", line 229, in _try_bind_socket\n",
      "    s.bind(\"tcp://%s:%i\" % (self.ip, port))\n",
      "  File \"/Users/ruilu/.local/lib/python3.10/site-packages/zmq/sugar/socket.py\", line 311, in bind\n",
      "    super().bind(addr)\n",
      "  File \"_zmq.py\", line 917, in zmq.backend.cython._zmq.Socket.bind\n",
      "  File \"_zmq.py\", line 179, in zmq.backend.cython._zmq._check_rc\n",
      "zmq.error.ZMQError: Address already in use (addr='tcp://127.0.0.1:52971')\n"
     ]
    },
    {
     "ename": "SystemExit",
     "evalue": "1",
     "output_type": "error",
     "traceback": [
      "An exception has occurred, use %tb to see the full traceback.\n",
      "\u001b[0;31mSystemExit\u001b[0m\u001b[0;31m:\u001b[0m 1\n"
     ]
    },
    {
     "name": "stderr",
     "output_type": "stream",
     "text": [
      "/Users/ruilu/.local/lib/python3.10/site-packages/IPython/core/interactiveshell.py:3585: UserWarning: To exit: use 'exit', 'quit', or Ctrl-D.\n",
      "  warn(\"To exit: use 'exit', 'quit', or Ctrl-D.\", stacklevel=1)\n"
     ]
    }
   ],
   "source": [
    "if __name__ == \"__main__\":\n",
    "    app.run(host='127.0.0.1', port=8000, debug=True, threaded=True)"
   ]
  },
  {
   "cell_type": "code",
   "execution_count": null,
   "id": "0ec1b807-87dc-4569-84fc-b5b43d0f98d6",
   "metadata": {},
   "outputs": [],
   "source": []
  }
 ],
 "metadata": {
  "kernelspec": {
   "display_name": "Python 3 (ipykernel)",
   "language": "python",
   "name": "python3"
  },
  "language_info": {
   "codemirror_mode": {
    "name": "ipython",
    "version": 3
   },
   "file_extension": ".py",
   "mimetype": "text/x-python",
   "name": "python",
   "nbconvert_exporter": "python",
   "pygments_lexer": "ipython3",
   "version": "3.10.16"
  }
 },
 "nbformat": 4,
 "nbformat_minor": 5
}
