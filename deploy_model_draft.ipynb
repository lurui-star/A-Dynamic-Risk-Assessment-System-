{
 "cells": [
  {
   "cell_type": "code",
   "execution_count": 1,
   "id": "24e97d01-8d1e-4ea9-8d29-79aaad020e4f",
   "metadata": {},
   "outputs": [],
   "source": [
    "import pandas as pd\n",
    "import numpy as np\n",
    "import pickle\n",
    "import os\n",
    "import logging\n",
    "import sys\n",
    "from sklearn import metrics\n",
    "from sklearn.model_selection import train_test_split\n",
    "from sklearn.linear_model import LogisticRegression\n",
    "import json\n",
    "import shutil"
   ]
  },
  {
   "cell_type": "code",
   "execution_count": 12,
   "id": "b71b071b-ff21-465e-85b7-a96dd4f263a5",
   "metadata": {},
   "outputs": [],
   "source": [
    "with open('src/config.json','r') as f:\n",
    "    config = json.load(f) \n",
    "\n",
    "dataset_csv_path = os.path.join(config['output_folder_path']) \n",
    "model_path = os.path.join(config['output_model_path']) \n",
    "prod_deployment_path = os.path.join(config['prod_deployment_path']) \n"
   ]
  },
  {
   "cell_type": "code",
   "execution_count": 13,
   "id": "99674bc6-2621-4c00-8857-3f979a830dbc",
   "metadata": {},
   "outputs": [],
   "source": [
    "logging.basicConfig(stream=sys.stdout, level=logging.INFO)"
   ]
  },
  {
   "cell_type": "code",
   "execution_count": 14,
   "id": "d6e8fab2-696e-450e-a148-092cf5b1f164",
   "metadata": {},
   "outputs": [
    {
     "name": "stdout",
     "output_type": "stream",
     "text": [
      "INFO:root:Deploying trained model to production\n",
      "INFO:root:Copying trainedmodel.pkl, ingestfiles.txt and latestscore.txt\n"
     ]
    }
   ],
   "source": [
    "logging.info(\"Deploying trained model to production\")\n",
    "logging.info(\"Copying trainedmodel.pkl, ingestfiles.txt and latestscore.txt\")"
   ]
  },
  {
   "cell_type": "code",
   "execution_count": 17,
   "id": "167116c6-07a1-455c-8c3f-f7de47c0ec9a",
   "metadata": {},
   "outputs": [
    {
     "data": {
      "text/plain": [
       "'model/production_deployment'"
      ]
     },
     "execution_count": 17,
     "metadata": {},
     "output_type": "execute_result"
    }
   ],
   "source": [
    "shutil.copy(os.path.join(dataset_csv_path,'ingestedfiles.txt'),prod_deployment_path)"
   ]
  },
  {
   "cell_type": "code",
   "execution_count": 18,
   "id": "1311059a-fe12-4b45-b34d-347bbaa7426b",
   "metadata": {},
   "outputs": [
    {
     "data": {
      "text/plain": [
       "'model/production_deployment'"
      ]
     },
     "execution_count": 18,
     "metadata": {},
     "output_type": "execute_result"
    }
   ],
   "source": [
    "shutil.copy(os.path.join(model_path,'trainedmodel.pkl'),prod_deployment_path)\n"
   ]
  },
  {
   "cell_type": "code",
   "execution_count": 19,
   "id": "2e2a0ddb-7d7c-4f73-87c2-71de77e6b076",
   "metadata": {},
   "outputs": [
    {
     "data": {
      "text/plain": [
       "'model/production_deployment'"
      ]
     },
     "execution_count": 19,
     "metadata": {},
     "output_type": "execute_result"
    }
   ],
   "source": [
    "shutil.copy(os.path.join(model_path,'latestscore.txt'),prod_deployment_path)"
   ]
  },
  {
   "cell_type": "code",
   "execution_count": null,
   "id": "4a950c90-b00e-4ef6-b17d-f9e74ef70799",
   "metadata": {},
   "outputs": [],
   "source": []
  }
 ],
 "metadata": {
  "kernelspec": {
   "display_name": "Python 3 (ipykernel)",
   "language": "python",
   "name": "python3"
  },
  "language_info": {
   "codemirror_mode": {
    "name": "ipython",
    "version": 3
   },
   "file_extension": ".py",
   "mimetype": "text/x-python",
   "name": "python",
   "nbconvert_exporter": "python",
   "pygments_lexer": "ipython3",
   "version": "3.10.16"
  }
 },
 "nbformat": 4,
 "nbformat_minor": 5
}
